{
 "cells": [
  {
   "cell_type": "code",
   "execution_count": 1,
   "metadata": {},
   "outputs": [],
   "source": [
    "import numpy as np\n",
    "import pandas as pd\n",
    "#import yahoo_fin.stock_info as info\n",
    "import datetime"
   ]
  },
  {
   "cell_type": "code",
   "execution_count": null,
   "metadata": {},
   "outputs": [],
   "source": []
  },
  {
   "cell_type": "markdown",
   "metadata": {},
   "source": [
    "DF = pd.concat([stoxx600, ftse350])"
   ]
  },
  {
   "cell_type": "markdown",
   "metadata": {},
   "source": [
    "DF = DF.reset_index()"
   ]
  },
  {
   "cell_type": "markdown",
   "metadata": {},
   "source": [
    "DF = DF.drop(\"index\", axis = 1)"
   ]
  },
  {
   "cell_type": "markdown",
   "metadata": {},
   "source": [
    "DF.duplicated(subset = [\"TICKER\", \"date\"]).sum()"
   ]
  },
  {
   "cell_type": "markdown",
   "metadata": {},
   "source": [
    "DF = DF.drop_duplicates(subset = [\"PERMNO\", \"date\"] )"
   ]
  },
  {
   "cell_type": "markdown",
   "metadata": {},
   "source": [
    "DF = DF.drop(\"COMNAM\", axis = 1)"
   ]
  },
  {
   "cell_type": "markdown",
   "metadata": {},
   "source": [
    "TICKERS = DF[\"TICKER\"].unique()"
   ]
  },
  {
   "cell_type": "markdown",
   "metadata": {},
   "source": [
    "TICKERS = TICKERS.tolist()"
   ]
  },
  {
   "cell_type": "markdown",
   "metadata": {},
   "source": [
    "DATES = DF[\"date\"].unique()\n",
    "DATES = DATES.tolist()"
   ]
  },
  {
   "cell_type": "markdown",
   "metadata": {},
   "source": [
    "DF = DF.set_index(\"date\")"
   ]
  },
  {
   "cell_type": "markdown",
   "metadata": {},
   "source": [
    "hier_index = list(zip(TICKERS,DATES))\n",
    "hier_index = pd.MultiIndex.from_tuples(hier_index)"
   ]
  },
  {
   "cell_type": "code",
   "execution_count": 21,
   "metadata": {},
   "outputs": [],
   "source": [
    "ticks.to_excel(\"ticks tot.xlsx\", index = False)"
   ]
  },
  {
   "cell_type": "code",
   "execution_count": null,
   "metadata": {},
   "outputs": [],
   "source": [
    "ticks.nunique()"
   ]
  },
  {
   "cell_type": "code",
   "execution_count": null,
   "metadata": {},
   "outputs": [],
   "source": []
  },
  {
   "cell_type": "code",
   "execution_count": 2,
   "metadata": {},
   "outputs": [],
   "source": [
    "#will5000 = pd.read_csv(\"Will5000.csv\")"
   ]
  },
  {
   "cell_type": "code",
   "execution_count": 3,
   "metadata": {},
   "outputs": [],
   "source": [
    "#russell3000 = pd.read_csv(\"295c8ea4dc241cd4.csv\")"
   ]
  },
  {
   "cell_type": "code",
   "execution_count": 4,
   "metadata": {},
   "outputs": [],
   "source": [
    "#DF = pd.concat([will5000, russell3000])"
   ]
  },
  {
   "cell_type": "code",
   "execution_count": 2,
   "metadata": {},
   "outputs": [],
   "source": [
    "DF = pd.read_csv(\"208fe21cc14c14d3.csv\")"
   ]
  },
  {
   "cell_type": "code",
   "execution_count": 3,
   "metadata": {},
   "outputs": [
    {
     "data": {
      "text/plain": [
       "4798"
      ]
     },
     "execution_count": 3,
     "metadata": {},
     "output_type": "execute_result"
    }
   ],
   "source": [
    "DF[\"PERMNO\"].nunique()"
   ]
  },
  {
   "cell_type": "code",
   "execution_count": 4,
   "metadata": {},
   "outputs": [
    {
     "data": {
      "text/plain": [
       "PERMNO         0\n",
       "date           0\n",
       "TICKER    224388\n",
       "COMNAM       190\n",
       "PRC       228087\n",
       "VOL       228096\n",
       "dtype: int64"
      ]
     },
     "execution_count": 4,
     "metadata": {},
     "output_type": "execute_result"
    }
   ],
   "source": [
    "DF.isnull().sum()"
   ]
  },
  {
   "cell_type": "code",
   "execution_count": 5,
   "metadata": {},
   "outputs": [],
   "source": [
    "DF= DF[DF[\"VOL\"] != 0]\n",
    "DF = DF[DF[\"PRC\"] >= 0]"
   ]
  },
  {
   "cell_type": "code",
   "execution_count": 6,
   "metadata": {},
   "outputs": [],
   "source": [
    "DF = DF.drop_duplicates(subset = [\"TICKER\", \"date\"])"
   ]
  },
  {
   "cell_type": "code",
   "execution_count": 7,
   "metadata": {},
   "outputs": [],
   "source": [
    "DF[\"date\"] = DF[\"date\"].astype(str)"
   ]
  },
  {
   "cell_type": "code",
   "execution_count": 8,
   "metadata": {},
   "outputs": [],
   "source": [
    "DF[\"date\"] = pd.to_datetime(DF[\"date\"])"
   ]
  },
  {
   "cell_type": "code",
   "execution_count": 30,
   "metadata": {},
   "outputs": [],
   "source": [
    "#russell3000[\"year\"] = russell3000[\"dated\"].apply(lambda time: time.year)\n",
    "#russell3000[\"month\"] = russell3000[\"dated\"].apply(lambda time: time.month)\n",
    "#russell3000[\"day\"] = russell3000[\"dated\"].apply(lambda time: time.day)"
   ]
  },
  {
   "cell_type": "code",
   "execution_count": 9,
   "metadata": {},
   "outputs": [
    {
     "data": {
      "text/plain": [
       "0"
      ]
     },
     "execution_count": 9,
     "metadata": {},
     "output_type": "execute_result"
    }
   ],
   "source": [
    "DF.duplicated(subset = [\"TICKER\", \"date\"]).sum()"
   ]
  },
  {
   "cell_type": "code",
   "execution_count": 10,
   "metadata": {},
   "outputs": [
    {
     "data": {
      "text/plain": [
       "0"
      ]
     },
     "execution_count": 10,
     "metadata": {},
     "output_type": "execute_result"
    }
   ],
   "source": [
    "DF.duplicated(subset = [\"PERMNO\", \"date\"]).sum()"
   ]
  },
  {
   "cell_type": "code",
   "execution_count": 11,
   "metadata": {},
   "outputs": [
    {
     "data": {
      "text/plain": [
       "5260"
      ]
     },
     "execution_count": 11,
     "metadata": {},
     "output_type": "execute_result"
    }
   ],
   "source": [
    "DF[\"TICKER\"].nunique()"
   ]
  },
  {
   "cell_type": "code",
   "execution_count": 12,
   "metadata": {},
   "outputs": [],
   "source": [
    "DF = DF.set_index([\"TICKER\", \"date\"])"
   ]
  },
  {
   "cell_type": "markdown",
   "metadata": {},
   "source": [
    "usable = DF.drop([\"PERMNO\", \"COMNAM\", \"VOL\"], axis = 1)"
   ]
  },
  {
   "cell_type": "code",
   "execution_count": 2,
   "metadata": {},
   "outputs": [],
   "source": [
    "def get_SMA(data, column, period):\n",
    "    SMA = data[column].groupby(level=0, group_keys=False).rolling(period).mean()\n",
    "    return SMA"
   ]
  },
  {
   "cell_type": "code",
   "execution_count": 3,
   "metadata": {},
   "outputs": [],
   "source": [
    "def get_EMA(data, column, period):\n",
    "    EMA = data[column].unstack(0).ewm(span= period, adjust = False).mean().stack().swaplevel(0, 1).sort_index()\n",
    "    return EMA"
   ]
  },
  {
   "cell_type": "code",
   "execution_count": 15,
   "metadata": {},
   "outputs": [],
   "source": [
    "DF[\"SMA_5\"] = get_SMA(DF, \"PRC\", 5)\n",
    "DF[\"SMA_15\"] = get_SMA(DF, \"PRC\", 15)\n",
    "DF[\"SMA_30\"] = get_SMA(DF, \"PRC\", 30)"
   ]
  },
  {
   "cell_type": "code",
   "execution_count": 16,
   "metadata": {},
   "outputs": [],
   "source": [
    "DF[\"EMA_5\"] = get_EMA(DF, \"PRC\", 5)\n",
    "DF[\"EMA_15\"] = get_EMA(DF, \"PRC\", 15)\n",
    "DF[\"EMA_30\"] = get_EMA(DF, \"PRC\", 30)"
   ]
  },
  {
   "cell_type": "markdown",
   "metadata": {},
   "source": [
    "accounting = pd.read_csv(\"Accounting DATA.csv\")"
   ]
  },
  {
   "cell_type": "markdown",
   "metadata": {},
   "source": [
    "accounting[\"TICKER\"].nunique()"
   ]
  },
  {
   "cell_type": "markdown",
   "metadata": {},
   "source": [
    "accounting.drop(\"datacqtr\", axis = 1, inplace = True)"
   ]
  },
  {
   "cell_type": "markdown",
   "metadata": {},
   "source": [
    "accounting = accounting[accounting[\"datafqtr\"] != \"1998Q4\"]"
   ]
  },
  {
   "cell_type": "markdown",
   "metadata": {},
   "source": [
    "for col in accounting.columns:\n",
    "    if accounting[col].isnull().sum() >= 100000:\n",
    "        accounting = accounting.drop(col, axis = 1)"
   ]
  },
  {
   "cell_type": "markdown",
   "metadata": {},
   "source": [
    "accounting.to_csv(\"Accounting DATA.csv\", index = False)"
   ]
  },
  {
   "cell_type": "code",
   "execution_count": 17,
   "metadata": {},
   "outputs": [],
   "source": [
    "accounting = pd.read_csv(\"Accounting DATA.csv\")"
   ]
  },
  {
   "cell_type": "code",
   "execution_count": 18,
   "metadata": {},
   "outputs": [],
   "source": [
    "for col in accounting.columns:\n",
    "    if accounting[col].nunique() == 1:\n",
    "         accounting = accounting.drop(col, axis = 1)"
   ]
  },
  {
   "cell_type": "code",
   "execution_count": 104,
   "metadata": {},
   "outputs": [],
   "source": [
    "accounting = accounting.set_index([\"TICKER\", \"date\"])"
   ]
  },
  {
   "cell_type": "code",
   "execution_count": 20,
   "metadata": {},
   "outputs": [
    {
     "data": {
      "text/plain": [
       "Index(['gvkey', 'fyearq', 'fqtr', 'curcdq', 'datafqtr', 'actq', 'atq', 'cheq',\n",
       "       'cogsq', 'cshoq', 'dlttq', 'epspxq', 'icaptq', 'invtq', 'lctq', 'ltq',\n",
       "       'niq', 'oiadpq', 'rectq', 'revtq', 'saleq', 'teqq', 'wcapq', 'xintq',\n",
       "       'intpny', 'oancfy', 'costat', 'dvpspq'],\n",
       "      dtype='object')"
      ]
     },
     "execution_count": 20,
     "metadata": {},
     "output_type": "execute_result"
    }
   ],
   "source": [
    "accounting.columns"
   ]
  },
  {
   "cell_type": "code",
   "execution_count": 21,
   "metadata": {},
   "outputs": [],
   "source": [
    "accounting[\"current_ratio\"] = accounting[\"actq\"] / accounting[\"lctq\"]"
   ]
  },
  {
   "cell_type": "code",
   "execution_count": 22,
   "metadata": {},
   "outputs": [],
   "source": [
    "accounting[\"acidtest_ratio\"] = (accounting[\"actq\"] - accounting[\"invtq\"])  / accounting[\"lctq\"]"
   ]
  },
  {
   "cell_type": "code",
   "execution_count": 23,
   "metadata": {},
   "outputs": [],
   "source": [
    "accounting[\"cash_ratio\"] = accounting[\"cheq\"]  / accounting[\"lctq\"]"
   ]
  },
  {
   "cell_type": "code",
   "execution_count": 24,
   "metadata": {},
   "outputs": [],
   "source": [
    "accounting[\"operatingCF_ratio\"] = accounting[\"oancfy\"]  / accounting[\"lctq\"]"
   ]
  },
  {
   "cell_type": "code",
   "execution_count": 25,
   "metadata": {},
   "outputs": [],
   "source": [
    "accounting[\"debt_ratio\"] = accounting[\"atq\"] /accounting[\"ltq\"] "
   ]
  },
  {
   "cell_type": "code",
   "execution_count": 105,
   "metadata": {},
   "outputs": [],
   "source": [
    "accounting[\"D_to_E_ratio\"] = accounting[\"ltq\"] /accounting[\"teqq\"] "
   ]
  },
  {
   "cell_type": "code",
   "execution_count": 106,
   "metadata": {},
   "outputs": [],
   "source": [
    "accounting[\"LTD_to_E_ratio\"] = accounting[\"dlttq\"] /accounting[\"teqq\"] "
   ]
  },
  {
   "cell_type": "code",
   "execution_count": 107,
   "metadata": {},
   "outputs": [],
   "source": [
    "accounting[\"LTD_to_A_ratio\"] = accounting[\"dlttq\"] /accounting[\"teqq\"] "
   ]
  },
  {
   "cell_type": "code",
   "execution_count": 29,
   "metadata": {},
   "outputs": [],
   "source": [
    "accounting[\"interest_c_ratio\"] = accounting[\"oiadpq\"] /accounting[\"xintq\"] "
   ]
  },
  {
   "cell_type": "code",
   "execution_count": 30,
   "metadata": {},
   "outputs": [],
   "source": [
    "accounting[\"asset_turnover_ratio\"] = accounting[\"revtq\"]/accounting[\"atq\"]"
   ]
  },
  {
   "cell_type": "code",
   "execution_count": 31,
   "metadata": {},
   "outputs": [],
   "source": [
    "accounting[\"inventory_turnover_ratio\"] = accounting[\"cogsq\"]/accounting[\"invtq\"]"
   ]
  },
  {
   "cell_type": "code",
   "execution_count": 32,
   "metadata": {},
   "outputs": [],
   "source": [
    "accounting[\"recievables_turnover_ratio\"] = accounting[\"saleq\"]/accounting[\"rectq\"]"
   ]
  },
  {
   "cell_type": "code",
   "execution_count": 33,
   "metadata": {},
   "outputs": [],
   "source": [
    "accounting[\"DIO\"] = 365/accounting[\"inventory_turnover_ratio\"]"
   ]
  },
  {
   "cell_type": "code",
   "execution_count": 34,
   "metadata": {},
   "outputs": [],
   "source": [
    "accounting[\"DSO\"] = 365/accounting[\"recievables_turnover_ratio\"]"
   ]
  },
  {
   "cell_type": "code",
   "execution_count": 35,
   "metadata": {},
   "outputs": [],
   "source": [
    "accounting[\"gross_margin_ratio\"] = (accounting[\"revtq\"]-accounting[\"cogsq\"])/accounting[\"saleq\"]"
   ]
  },
  {
   "cell_type": "code",
   "execution_count": 36,
   "metadata": {},
   "outputs": [],
   "source": [
    "accounting[\"operating_margin_ratio\"] = accounting[\"oiadpq\"]/accounting[\"saleq\"]"
   ]
  },
  {
   "cell_type": "code",
   "execution_count": 37,
   "metadata": {},
   "outputs": [],
   "source": [
    "accounting[\"ROA\"] = accounting[\"niq\"]/accounting[\"atq\"]"
   ]
  },
  {
   "cell_type": "code",
   "execution_count": 108,
   "metadata": {},
   "outputs": [],
   "source": [
    "accounting[\"ROE\"] = accounting[\"niq\"]/accounting[\"teqq\"]"
   ]
  },
  {
   "cell_type": "code",
   "execution_count": 39,
   "metadata": {},
   "outputs": [],
   "source": [
    "accounting[\"ROIC\"] = accounting[\"niq\"]/accounting[\"icaptq\"]"
   ]
  },
  {
   "cell_type": "code",
   "execution_count": 109,
   "metadata": {},
   "outputs": [],
   "source": [
    "accounting[\"book_to_share_ratio\"] = accounting[\"teqq\"]/accounting[\"cshoq\"]"
   ]
  },
  {
   "cell_type": "markdown",
   "metadata": {},
   "source": [
    "#to calculate when we reassign the share price\n",
    "#keep DIV per share\n",
    "accounting[\"dividend_yield\"]\n",
    "accounting[\"price_earning_ratio\"]"
   ]
  },
  {
   "cell_type": "code",
   "execution_count": 41,
   "metadata": {},
   "outputs": [],
   "source": [
    "accounting[\"earning_per_share\"] = accounting[\"niq\"]/accounting[\"cshoq\"]"
   ]
  },
  {
   "cell_type": "code",
   "execution_count": 4,
   "metadata": {},
   "outputs": [],
   "source": [
    "def get_MACD(data, longMA, shortMA):\n",
    "    MACD = data[shortMA] - data[longMA]\n",
    "    return MACD"
   ]
  },
  {
   "cell_type": "code",
   "execution_count": 5,
   "metadata": {},
   "outputs": [
    {
     "ename": "NameError",
     "evalue": "name 'DF' is not defined",
     "output_type": "error",
     "traceback": [
      "\u001b[1;31m---------------------------------------------------------------------------\u001b[0m",
      "\u001b[1;31mNameError\u001b[0m                                 Traceback (most recent call last)",
      "\u001b[1;32m<ipython-input-5-75172f5a0b96>\u001b[0m in \u001b[0;36m<module>\u001b[1;34m\u001b[0m\n\u001b[1;32m----> 1\u001b[1;33m \u001b[0mDF\u001b[0m\u001b[1;33m[\u001b[0m\u001b[1;34m\"S_MACD\"\u001b[0m\u001b[1;33m]\u001b[0m \u001b[1;33m=\u001b[0m \u001b[0mget_MACD\u001b[0m\u001b[1;33m(\u001b[0m\u001b[0mDF\u001b[0m\u001b[1;33m,\u001b[0m \u001b[1;34m\"SMA_30\"\u001b[0m\u001b[1;33m,\u001b[0m \u001b[1;34m\"SMA_5\"\u001b[0m\u001b[1;33m)\u001b[0m\u001b[1;33m\u001b[0m\u001b[1;33m\u001b[0m\u001b[0m\n\u001b[0m\u001b[0;32m      2\u001b[0m \u001b[0mDF\u001b[0m\u001b[1;33m[\u001b[0m\u001b[1;34m\"E_MACD\"\u001b[0m\u001b[1;33m]\u001b[0m \u001b[1;33m=\u001b[0m \u001b[0mget_MACD\u001b[0m\u001b[1;33m(\u001b[0m\u001b[0mDF\u001b[0m\u001b[1;33m,\u001b[0m \u001b[1;34m\"EMA_30\"\u001b[0m\u001b[1;33m,\u001b[0m \u001b[1;34m\"EMA_5\"\u001b[0m\u001b[1;33m)\u001b[0m\u001b[1;33m\u001b[0m\u001b[1;33m\u001b[0m\u001b[0m\n",
      "\u001b[1;31mNameError\u001b[0m: name 'DF' is not defined"
     ]
    }
   ],
   "source": [
    "DF[\"S_MACD\"] = get_MACD(DF, \"SMA_30\", \"SMA_5\")\n",
    "DF[\"E_MACD\"] = get_MACD(DF, \"EMA_30\", \"EMA_5\")"
   ]
  },
  {
   "cell_type": "code",
   "execution_count": 44,
   "metadata": {},
   "outputs": [],
   "source": [
    "DF[\"max14\"] = DF[\"PRC\"].groupby(level=0, group_keys=False).rolling(14).min()\n",
    "DF[\"min14\"] = DF[\"PRC\"].groupby(level=0, group_keys=False).rolling(14).max()"
   ]
  },
  {
   "cell_type": "code",
   "execution_count": 47,
   "metadata": {},
   "outputs": [],
   "source": [
    "DF[\"stochastic_%K\"] = (DF[\"PRC\"]-DF[\"min14\"])/(DF[\"max14\"]-DF[\"min14\"])"
   ]
  },
  {
   "cell_type": "code",
   "execution_count": 52,
   "metadata": {},
   "outputs": [],
   "source": [
    "DF[\"stochastic_%D\"] = get_SMA(DF, \"stochastic_%K\", 3)"
   ]
  },
  {
   "cell_type": "code",
   "execution_count": 112,
   "metadata": {},
   "outputs": [],
   "source": [
    "accounting.to_csv(\"acc_data_complete.csv\")"
   ]
  },
  {
   "cell_type": "code",
   "execution_count": 56,
   "metadata": {},
   "outputs": [],
   "source": [
    "DF.to_csv(\"tech_data.csv\")"
   ]
  },
  {
   "cell_type": "code",
   "execution_count": 6,
   "metadata": {},
   "outputs": [],
   "source": [
    "DF = pd.read_csv(\"tech_data.csv\", index_col = [\"TICKER\", \"date\"])"
   ]
  },
  {
   "cell_type": "code",
   "execution_count": 7,
   "metadata": {},
   "outputs": [],
   "source": [
    "def get_MAX(data, column, period):\n",
    "    MAX = data[column].groupby(level=0, group_keys=False).rolling(period).max()\n",
    "    return MAX"
   ]
  },
  {
   "cell_type": "code",
   "execution_count": 8,
   "metadata": {},
   "outputs": [],
   "source": [
    "def get_MIN(data, column, period):\n",
    "    MIN = data[column].groupby(level=0, group_keys=False).rolling(period).min()\n",
    "    return MIN"
   ]
  },
  {
   "cell_type": "code",
   "execution_count": 9,
   "metadata": {},
   "outputs": [],
   "source": [
    "DF.drop([\"max14\", \"min14\"], axis = 1, inplace = True)"
   ]
  },
  {
   "cell_type": "code",
   "execution_count": 10,
   "metadata": {},
   "outputs": [],
   "source": [
    "DF[\"MAX_5\"] = get_MAX(DF, \"PRC\", 5)\n",
    "DF[\"MAX_15\"] = get_MAX(DF, \"PRC\", 15)\n",
    "DF[\"MAX_30\"] = get_MAX(DF, \"PRC\", 30)"
   ]
  },
  {
   "cell_type": "code",
   "execution_count": 11,
   "metadata": {},
   "outputs": [],
   "source": [
    "DF[\"MIN_5\"] = get_MIN(DF, \"PRC\", 5)\n",
    "DF[\"MIN_15\"] = get_MIN(DF, \"PRC\", 15)\n",
    "DF[\"MIN_30\"] = get_MIN(DF, \"PRC\", 30)"
   ]
  },
  {
   "cell_type": "code",
   "execution_count": 12,
   "metadata": {},
   "outputs": [],
   "source": [
    "DF[\"true_range\"] = DF[\"PRC\"].groupby(level = 0, group_keys = False).diff()"
   ]
  },
  {
   "cell_type": "code",
   "execution_count": 13,
   "metadata": {},
   "outputs": [],
   "source": [
    "DF[\"ATR_5\"] = get_SMA(DF, \"true_range\", 5)\n",
    "DF[\"ATR_15\"] = get_SMA(DF, \"true_range\", 15)\n",
    "DF[\"ATR_30\"] = get_SMA(DF, \"true_range\", 30)"
   ]
  },
  {
   "cell_type": "code",
   "execution_count": 14,
   "metadata": {},
   "outputs": [],
   "source": [
    "DF[\"norm_ATR_5\"] = DF[\"ATR_5\"]/DF[\"PRC\"]*100\n",
    "DF[\"norm_ATR_15\"] = DF[\"ATR_15\"]/DF[\"PRC\"]*100\n",
    "DF[\"norm_ATR_30\"] = DF[\"ATR_30\"]/DF[\"PRC\"]*100"
   ]
  },
  {
   "cell_type": "code",
   "execution_count": 15,
   "metadata": {},
   "outputs": [],
   "source": [
    "DF[\"momentum_5\"] = DF[\"PRC\"].groupby(level = 0, group_keys = False).diff(5)\n",
    "DF[\"momentum_15\"] = DF[\"PRC\"].groupby(level = 0, group_keys = False).diff(15)\n",
    "DF[\"momentum_30\"] = DF[\"PRC\"].groupby(level = 0, group_keys = False).diff(30)"
   ]
  },
  {
   "cell_type": "code",
   "execution_count": 16,
   "metadata": {},
   "outputs": [],
   "source": [
    "DF[\"ROC_5\"] = DF[\"PRC\"].groupby(level=0, group_keys=False).pct_change(5)\n",
    "DF[\"ROC_15\"] = DF[\"PRC\"].groupby(level=0, group_keys=False).pct_change(15)\n",
    "DF[\"ROC_30\"] = DF[\"PRC\"].groupby(level=0, group_keys=False).pct_change(30)"
   ]
  },
  {
   "cell_type": "code",
   "execution_count": 17,
   "metadata": {},
   "outputs": [],
   "source": [
    "DF[\"return\"] = DF[\"PRC\"].groupby(level=0, group_keys=False).pct_change()"
   ]
  },
  {
   "cell_type": "code",
   "execution_count": 18,
   "metadata": {},
   "outputs": [],
   "source": [
    "def computeRSI (data, col, period):\n",
    "    diff = data[col].groupby(level=0, group_keys=False).diff(1) # diff in one field(one day)\n",
    "\n",
    "    #this preservers dimensions off diff values\n",
    "    up_chg = 0 * diff\n",
    "    down_chg = 0 * diff\n",
    "    \n",
    "    # up change is equal to the positive difference, otherwise equal to zero\n",
    "    up_chg[diff > 0] = diff[ diff>0 ]\n",
    "    \n",
    "    # down change is equal to negative deifference, otherwise equal to zero\n",
    "    down_chg[diff < 0] = diff[ diff < 0 ]\n",
    "\n",
    "    # values are related to exponential decay\n",
    "    # we set com=time_window-1 so we get decay alpha=1/time_window\n",
    "    up_chg_avg   = up_chg.ewm(com=period-1 , min_periods=period).mean()\n",
    "    down_chg_avg = down_chg.ewm(com=period-1 , min_periods=period).mean()\n",
    "    \n",
    "    rs = abs(up_chg_avg/down_chg_avg)\n",
    "    rsi = 100 - 100/(1+rs)\n",
    "    return rsi"
   ]
  },
  {
   "cell_type": "code",
   "execution_count": null,
   "metadata": {},
   "outputs": [],
   "source": []
  },
  {
   "cell_type": "code",
   "execution_count": 19,
   "metadata": {},
   "outputs": [],
   "source": [
    "DF[\"RSI_5\"] = computeRSI(DF,\"PRC\", 5)\n",
    "DF[\"RSI_15\"] = computeRSI(DF,\"PRC\", 15)\n",
    "DF[\"RSI_30\"] = computeRSI(DF,\"PRC\", 30)"
   ]
  },
  {
   "cell_type": "code",
   "execution_count": 20,
   "metadata": {},
   "outputs": [],
   "source": [
    "DF[\"std_5\"]= DF[\"return\"].groupby(level=0, group_keys=False).rolling(window = 5).std()\n",
    "DF[\"std_15\"]= DF[\"return\"].groupby(level=0, group_keys=False).rolling(window = 15).std()\n",
    "DF[\"std_30\"]= DF[\"return\"].groupby(level=0, group_keys=False).rolling(window = 30).std()"
   ]
  },
  {
   "cell_type": "code",
   "execution_count": null,
   "metadata": {},
   "outputs": [],
   "source": []
  },
  {
   "cell_type": "code",
   "execution_count": 22,
   "metadata": {},
   "outputs": [],
   "source": [
    "DF.dropna(inplace = True)"
   ]
  },
  {
   "cell_type": "code",
   "execution_count": 25,
   "metadata": {},
   "outputs": [
    {
     "data": {
      "text/html": [
       "<div>\n",
       "<style scoped>\n",
       "    .dataframe tbody tr th:only-of-type {\n",
       "        vertical-align: middle;\n",
       "    }\n",
       "\n",
       "    .dataframe tbody tr th {\n",
       "        vertical-align: top;\n",
       "    }\n",
       "\n",
       "    .dataframe thead th {\n",
       "        text-align: right;\n",
       "    }\n",
       "</style>\n",
       "<table border=\"1\" class=\"dataframe\">\n",
       "  <thead>\n",
       "    <tr style=\"text-align: right;\">\n",
       "      <th></th>\n",
       "      <th></th>\n",
       "      <th>PERMNO</th>\n",
       "      <th>COMNAM</th>\n",
       "      <th>PRC</th>\n",
       "      <th>VOL</th>\n",
       "      <th>SMA_5</th>\n",
       "      <th>SMA_15</th>\n",
       "      <th>SMA_30</th>\n",
       "      <th>EMA_5</th>\n",
       "      <th>EMA_15</th>\n",
       "      <th>EMA_30</th>\n",
       "      <th>...</th>\n",
       "      <th>ROC_5</th>\n",
       "      <th>ROC_15</th>\n",
       "      <th>ROC_30</th>\n",
       "      <th>return</th>\n",
       "      <th>RSI_5</th>\n",
       "      <th>RSI_15</th>\n",
       "      <th>RSI_30</th>\n",
       "      <th>std_5</th>\n",
       "      <th>std_15</th>\n",
       "      <th>std_30</th>\n",
       "    </tr>\n",
       "    <tr>\n",
       "      <th>TICKER</th>\n",
       "      <th>date</th>\n",
       "      <th></th>\n",
       "      <th></th>\n",
       "      <th></th>\n",
       "      <th></th>\n",
       "      <th></th>\n",
       "      <th></th>\n",
       "      <th></th>\n",
       "      <th></th>\n",
       "      <th></th>\n",
       "      <th></th>\n",
       "      <th></th>\n",
       "      <th></th>\n",
       "      <th></th>\n",
       "      <th></th>\n",
       "      <th></th>\n",
       "      <th></th>\n",
       "      <th></th>\n",
       "      <th></th>\n",
       "      <th></th>\n",
       "      <th></th>\n",
       "      <th></th>\n",
       "    </tr>\n",
       "  </thead>\n",
       "  <tbody>\n",
       "    <tr>\n",
       "      <th rowspan=\"5\" valign=\"top\">EWST</th>\n",
       "      <th>1999-03-03</th>\n",
       "      <td>10001</td>\n",
       "      <td>ENERGY WEST INC</td>\n",
       "      <td>9.00000</td>\n",
       "      <td>1666.0</td>\n",
       "      <td>8.775000</td>\n",
       "      <td>9.008333</td>\n",
       "      <td>9.479167</td>\n",
       "      <td>8.814323</td>\n",
       "      <td>9.010319</td>\n",
       "      <td>9.242117</td>\n",
       "      <td>...</td>\n",
       "      <td>0.028571</td>\n",
       "      <td>-0.064935</td>\n",
       "      <td>-0.052632</td>\n",
       "      <td>0.058824</td>\n",
       "      <td>55.402847</td>\n",
       "      <td>46.257172</td>\n",
       "      <td>45.943004</td>\n",
       "      <td>0.036260</td>\n",
       "      <td>0.038385</td>\n",
       "      <td>0.036078</td>\n",
       "    </tr>\n",
       "    <tr>\n",
       "      <th>1999-03-04</th>\n",
       "      <td>10001</td>\n",
       "      <td>ENERGY WEST INC</td>\n",
       "      <td>9.00000</td>\n",
       "      <td>100.0</td>\n",
       "      <td>8.825000</td>\n",
       "      <td>8.975000</td>\n",
       "      <td>9.445833</td>\n",
       "      <td>8.876215</td>\n",
       "      <td>9.009029</td>\n",
       "      <td>9.226497</td>\n",
       "      <td>...</td>\n",
       "      <td>0.028571</td>\n",
       "      <td>-0.052632</td>\n",
       "      <td>-0.100000</td>\n",
       "      <td>0.000000</td>\n",
       "      <td>55.402847</td>\n",
       "      <td>46.257172</td>\n",
       "      <td>45.943004</td>\n",
       "      <td>0.036260</td>\n",
       "      <td>0.038309</td>\n",
       "      <td>0.034622</td>\n",
       "    </tr>\n",
       "    <tr>\n",
       "      <th>1999-03-08</th>\n",
       "      <td>10001</td>\n",
       "      <td>ENERGY WEST INC</td>\n",
       "      <td>9.00000</td>\n",
       "      <td>6300.0</td>\n",
       "      <td>8.875000</td>\n",
       "      <td>8.925000</td>\n",
       "      <td>9.412500</td>\n",
       "      <td>8.929266</td>\n",
       "      <td>9.007762</td>\n",
       "      <td>9.210946</td>\n",
       "      <td>...</td>\n",
       "      <td>0.028571</td>\n",
       "      <td>-0.076923</td>\n",
       "      <td>-0.100000</td>\n",
       "      <td>0.000000</td>\n",
       "      <td>55.402847</td>\n",
       "      <td>46.257172</td>\n",
       "      <td>45.943004</td>\n",
       "      <td>0.036260</td>\n",
       "      <td>0.037468</td>\n",
       "      <td>0.034622</td>\n",
       "    </tr>\n",
       "    <tr>\n",
       "      <th>1999-03-09</th>\n",
       "      <td>10001</td>\n",
       "      <td>ENERGY WEST INC</td>\n",
       "      <td>9.00000</td>\n",
       "      <td>6300.0</td>\n",
       "      <td>8.900000</td>\n",
       "      <td>8.908333</td>\n",
       "      <td>9.387500</td>\n",
       "      <td>8.952844</td>\n",
       "      <td>9.006791</td>\n",
       "      <td>9.197336</td>\n",
       "      <td>...</td>\n",
       "      <td>0.014085</td>\n",
       "      <td>-0.027027</td>\n",
       "      <td>-0.076923</td>\n",
       "      <td>0.000000</td>\n",
       "      <td>55.402847</td>\n",
       "      <td>46.257172</td>\n",
       "      <td>45.943004</td>\n",
       "      <td>0.036023</td>\n",
       "      <td>0.035180</td>\n",
       "      <td>0.034372</td>\n",
       "    </tr>\n",
       "    <tr>\n",
       "      <th>1999-03-10</th>\n",
       "      <td>10001</td>\n",
       "      <td>ENERGY WEST INC</td>\n",
       "      <td>9.00000</td>\n",
       "      <td>6243.0</td>\n",
       "      <td>9.000000</td>\n",
       "      <td>8.916667</td>\n",
       "      <td>9.362500</td>\n",
       "      <td>8.968563</td>\n",
       "      <td>9.005943</td>\n",
       "      <td>9.184605</td>\n",
       "      <td>...</td>\n",
       "      <td>0.058824</td>\n",
       "      <td>0.014085</td>\n",
       "      <td>-0.076923</td>\n",
       "      <td>0.000000</td>\n",
       "      <td>55.402847</td>\n",
       "      <td>46.257172</td>\n",
       "      <td>45.943004</td>\n",
       "      <td>0.026307</td>\n",
       "      <td>0.033462</td>\n",
       "      <td>0.034372</td>\n",
       "    </tr>\n",
       "    <tr>\n",
       "      <th>...</th>\n",
       "      <th>...</th>\n",
       "      <td>...</td>\n",
       "      <td>...</td>\n",
       "      <td>...</td>\n",
       "      <td>...</td>\n",
       "      <td>...</td>\n",
       "      <td>...</td>\n",
       "      <td>...</td>\n",
       "      <td>...</td>\n",
       "      <td>...</td>\n",
       "      <td>...</td>\n",
       "      <td>...</td>\n",
       "      <td>...</td>\n",
       "      <td>...</td>\n",
       "      <td>...</td>\n",
       "      <td>...</td>\n",
       "      <td>...</td>\n",
       "      <td>...</td>\n",
       "      <td>...</td>\n",
       "      <td>...</td>\n",
       "      <td>...</td>\n",
       "      <td>...</td>\n",
       "    </tr>\n",
       "    <tr>\n",
       "      <th rowspan=\"5\" valign=\"top\">TSLA</th>\n",
       "      <th>2019-12-24</th>\n",
       "      <td>93436</td>\n",
       "      <td>TESLA INC</td>\n",
       "      <td>425.25000</td>\n",
       "      <td>8186207.0</td>\n",
       "      <td>409.450000</td>\n",
       "      <td>371.078001</td>\n",
       "      <td>357.029667</td>\n",
       "      <td>409.216112</td>\n",
       "      <td>381.127231</td>\n",
       "      <td>358.895577</td>\n",
       "      <td>...</td>\n",
       "      <td>0.122061</td>\n",
       "      <td>0.264872</td>\n",
       "      <td>0.232287</td>\n",
       "      <td>0.014384</td>\n",
       "      <td>95.651111</td>\n",
       "      <td>83.552058</td>\n",
       "      <td>76.198556</td>\n",
       "      <td>0.013979</td>\n",
       "      <td>0.020206</td>\n",
       "      <td>0.022250</td>\n",
       "    </tr>\n",
       "    <tr>\n",
       "      <th>2019-12-26</th>\n",
       "      <td>93436</td>\n",
       "      <td>TESLA INC</td>\n",
       "      <td>430.94000</td>\n",
       "      <td>10617605.0</td>\n",
       "      <td>417.008002</td>\n",
       "      <td>377.605334</td>\n",
       "      <td>359.730001</td>\n",
       "      <td>416.457408</td>\n",
       "      <td>387.353827</td>\n",
       "      <td>363.543604</td>\n",
       "      <td>...</td>\n",
       "      <td>0.096121</td>\n",
       "      <td>0.293998</td>\n",
       "      <td>0.231503</td>\n",
       "      <td>0.013380</td>\n",
       "      <td>96.295249</td>\n",
       "      <td>84.463295</td>\n",
       "      <td>76.917064</td>\n",
       "      <td>0.011947</td>\n",
       "      <td>0.018979</td>\n",
       "      <td>0.022243</td>\n",
       "    </tr>\n",
       "    <tr>\n",
       "      <th>2019-12-27</th>\n",
       "      <td>93436</td>\n",
       "      <td>TESLA INC</td>\n",
       "      <td>430.38000</td>\n",
       "      <td>9936455.0</td>\n",
       "      <td>422.276000</td>\n",
       "      <td>384.272667</td>\n",
       "      <td>362.539001</td>\n",
       "      <td>421.098272</td>\n",
       "      <td>392.732099</td>\n",
       "      <td>367.855630</td>\n",
       "      <td>...</td>\n",
       "      <td>0.065192</td>\n",
       "      <td>0.302721</td>\n",
       "      <td>0.243478</td>\n",
       "      <td>-0.001299</td>\n",
       "      <td>94.571998</td>\n",
       "      <td>83.972730</td>\n",
       "      <td>76.681387</td>\n",
       "      <td>0.013368</td>\n",
       "      <td>0.018408</td>\n",
       "      <td>0.022041</td>\n",
       "    </tr>\n",
       "    <tr>\n",
       "      <th>2019-12-30</th>\n",
       "      <td>93436</td>\n",
       "      <td>TESLA INC</td>\n",
       "      <td>414.70001</td>\n",
       "      <td>12563586.0</td>\n",
       "      <td>424.098002</td>\n",
       "      <td>389.526667</td>\n",
       "      <td>364.717335</td>\n",
       "      <td>418.965518</td>\n",
       "      <td>395.478088</td>\n",
       "      <td>370.877848</td>\n",
       "      <td>...</td>\n",
       "      <td>0.022461</td>\n",
       "      <td>0.234630</td>\n",
       "      <td>0.187062</td>\n",
       "      <td>-0.036433</td>\n",
       "      <td>58.150133</td>\n",
       "      <td>71.512362</td>\n",
       "      <td>70.430567</td>\n",
       "      <td>0.026137</td>\n",
       "      <td>0.023162</td>\n",
       "      <td>0.023451</td>\n",
       "    </tr>\n",
       "    <tr>\n",
       "      <th>2019-12-31</th>\n",
       "      <td>93436</td>\n",
       "      <td>TESLA INC</td>\n",
       "      <td>418.32999</td>\n",
       "      <td>10264766.0</td>\n",
       "      <td>423.920000</td>\n",
       "      <td>394.780000</td>\n",
       "      <td>366.922667</td>\n",
       "      <td>418.753675</td>\n",
       "      <td>398.334576</td>\n",
       "      <td>373.939276</td>\n",
       "      <td>...</td>\n",
       "      <td>-0.002123</td>\n",
       "      <td>0.232086</td>\n",
       "      <td>0.187864</td>\n",
       "      <td>0.008753</td>\n",
       "      <td>62.346499</td>\n",
       "      <td>72.523647</td>\n",
       "      <td>70.996774</td>\n",
       "      <td>0.021162</td>\n",
       "      <td>0.023191</td>\n",
       "      <td>0.023453</td>\n",
       "    </tr>\n",
       "  </tbody>\n",
       "</table>\n",
       "<p>15057079 rows × 40 columns</p>\n",
       "</div>"
      ],
      "text/plain": [
       "                   PERMNO           COMNAM        PRC         VOL       SMA_5  \\\n",
       "TICKER date                                                                     \n",
       "EWST   1999-03-03   10001  ENERGY WEST INC    9.00000      1666.0    8.775000   \n",
       "       1999-03-04   10001  ENERGY WEST INC    9.00000       100.0    8.825000   \n",
       "       1999-03-08   10001  ENERGY WEST INC    9.00000      6300.0    8.875000   \n",
       "       1999-03-09   10001  ENERGY WEST INC    9.00000      6300.0    8.900000   \n",
       "       1999-03-10   10001  ENERGY WEST INC    9.00000      6243.0    9.000000   \n",
       "...                   ...              ...        ...         ...         ...   \n",
       "TSLA   2019-12-24   93436        TESLA INC  425.25000   8186207.0  409.450000   \n",
       "       2019-12-26   93436        TESLA INC  430.94000  10617605.0  417.008002   \n",
       "       2019-12-27   93436        TESLA INC  430.38000   9936455.0  422.276000   \n",
       "       2019-12-30   93436        TESLA INC  414.70001  12563586.0  424.098002   \n",
       "       2019-12-31   93436        TESLA INC  418.32999  10264766.0  423.920000   \n",
       "\n",
       "                       SMA_15      SMA_30       EMA_5      EMA_15      EMA_30  \\\n",
       "TICKER date                                                                     \n",
       "EWST   1999-03-03    9.008333    9.479167    8.814323    9.010319    9.242117   \n",
       "       1999-03-04    8.975000    9.445833    8.876215    9.009029    9.226497   \n",
       "       1999-03-08    8.925000    9.412500    8.929266    9.007762    9.210946   \n",
       "       1999-03-09    8.908333    9.387500    8.952844    9.006791    9.197336   \n",
       "       1999-03-10    8.916667    9.362500    8.968563    9.005943    9.184605   \n",
       "...                       ...         ...         ...         ...         ...   \n",
       "TSLA   2019-12-24  371.078001  357.029667  409.216112  381.127231  358.895577   \n",
       "       2019-12-26  377.605334  359.730001  416.457408  387.353827  363.543604   \n",
       "       2019-12-27  384.272667  362.539001  421.098272  392.732099  367.855630   \n",
       "       2019-12-30  389.526667  364.717335  418.965518  395.478088  370.877848   \n",
       "       2019-12-31  394.780000  366.922667  418.753675  398.334576  373.939276   \n",
       "\n",
       "                   ...     ROC_5    ROC_15    ROC_30    return      RSI_5  \\\n",
       "TICKER date        ...                                                      \n",
       "EWST   1999-03-03  ...  0.028571 -0.064935 -0.052632  0.058824  55.402847   \n",
       "       1999-03-04  ...  0.028571 -0.052632 -0.100000  0.000000  55.402847   \n",
       "       1999-03-08  ...  0.028571 -0.076923 -0.100000  0.000000  55.402847   \n",
       "       1999-03-09  ...  0.014085 -0.027027 -0.076923  0.000000  55.402847   \n",
       "       1999-03-10  ...  0.058824  0.014085 -0.076923  0.000000  55.402847   \n",
       "...                ...       ...       ...       ...       ...        ...   \n",
       "TSLA   2019-12-24  ...  0.122061  0.264872  0.232287  0.014384  95.651111   \n",
       "       2019-12-26  ...  0.096121  0.293998  0.231503  0.013380  96.295249   \n",
       "       2019-12-27  ...  0.065192  0.302721  0.243478 -0.001299  94.571998   \n",
       "       2019-12-30  ...  0.022461  0.234630  0.187062 -0.036433  58.150133   \n",
       "       2019-12-31  ... -0.002123  0.232086  0.187864  0.008753  62.346499   \n",
       "\n",
       "                      RSI_15     RSI_30     std_5    std_15    std_30  \n",
       "TICKER date                                                            \n",
       "EWST   1999-03-03  46.257172  45.943004  0.036260  0.038385  0.036078  \n",
       "       1999-03-04  46.257172  45.943004  0.036260  0.038309  0.034622  \n",
       "       1999-03-08  46.257172  45.943004  0.036260  0.037468  0.034622  \n",
       "       1999-03-09  46.257172  45.943004  0.036023  0.035180  0.034372  \n",
       "       1999-03-10  46.257172  45.943004  0.026307  0.033462  0.034372  \n",
       "...                      ...        ...       ...       ...       ...  \n",
       "TSLA   2019-12-24  83.552058  76.198556  0.013979  0.020206  0.022250  \n",
       "       2019-12-26  84.463295  76.917064  0.011947  0.018979  0.022243  \n",
       "       2019-12-27  83.972730  76.681387  0.013368  0.018408  0.022041  \n",
       "       2019-12-30  71.512362  70.430567  0.026137  0.023162  0.023451  \n",
       "       2019-12-31  72.523647  70.996774  0.021162  0.023191  0.023453  \n",
       "\n",
       "[15057079 rows x 40 columns]"
      ]
     },
     "execution_count": 25,
     "metadata": {},
     "output_type": "execute_result"
    }
   ],
   "source": [
    "DF"
   ]
  },
  {
   "cell_type": "code",
   "execution_count": 3,
   "metadata": {},
   "outputs": [],
   "source": [
    "accounting = pd.read_csv(\"acc_data_complete.csv\", index_col = [\"TICKER\", \"date\"])"
   ]
  },
  {
   "cell_type": "code",
   "execution_count": 4,
   "metadata": {},
   "outputs": [],
   "source": [
    "accounting.reset_index(inplace = True)"
   ]
  },
  {
   "cell_type": "code",
   "execution_count": 5,
   "metadata": {},
   "outputs": [],
   "source": [
    "accounting.drop(\"intpny\", axis = 1, inplace = True)"
   ]
  },
  {
   "cell_type": "code",
   "execution_count": 6,
   "metadata": {},
   "outputs": [],
   "source": [
    "usable = []\n",
    "for tick in accounting[\"TICKER\"].unique():\n",
    "    d = accounting[accounting[\"TICKER\"] == tick].isna().sum().sum()\n",
    "    if d <= 200:\n",
    "        usable.append(tick)"
   ]
  },
  {
   "cell_type": "code",
   "execution_count": 7,
   "metadata": {},
   "outputs": [
    {
     "data": {
      "text/plain": [
       "1691"
      ]
     },
     "execution_count": 7,
     "metadata": {},
     "output_type": "execute_result"
    }
   ],
   "source": [
    "len(usable)"
   ]
  },
  {
   "cell_type": "code",
   "execution_count": 10,
   "metadata": {},
   "outputs": [],
   "source": [
    "accounting = accounting[accounting[\"TICKER\"].isin(usable)]"
   ]
  },
  {
   "cell_type": "code",
   "execution_count": 128,
   "metadata": {},
   "outputs": [],
   "source": [
    "DF = DF[DF[\"TICKER\"].isin(usable)]"
   ]
  },
  {
   "cell_type": "code",
   "execution_count": 130,
   "metadata": {},
   "outputs": [],
   "source": [
    "DF.reset_index(drop = True, inplace = True)"
   ]
  },
  {
   "cell_type": "code",
   "execution_count": 132,
   "metadata": {},
   "outputs": [],
   "source": [
    "DF.to_csv(\"tech_data_v2.csv\", index = False)"
   ]
  },
  {
   "cell_type": "code",
   "execution_count": 3,
   "metadata": {},
   "outputs": [],
   "source": [
    "DF = pd.read_csv(\"tech_data_v2.csv\")"
   ]
  },
  {
   "cell_type": "code",
   "execution_count": 13,
   "metadata": {},
   "outputs": [],
   "source": [
    "accounting = accounting[accounting[\"TICKER\"].isin(DF[\"TICKER\"].unique())]"
   ]
  },
  {
   "cell_type": "code",
   "execution_count": 16,
   "metadata": {},
   "outputs": [],
   "source": [
    "accounting.set_index([\"TICKER\", \"date\"], inplace =True)"
   ]
  },
  {
   "cell_type": "code",
   "execution_count": 17,
   "metadata": {},
   "outputs": [],
   "source": [
    "accounting.to_csv(\"acc_data_complete.csv\")"
   ]
  },
  {
   "cell_type": "code",
   "execution_count": 4,
   "metadata": {},
   "outputs": [],
   "source": [
    "accounting = pd.read_csv(\"acc_data_complete.csv\", index_col = [\"TICKER\", \"date\"])"
   ]
  },
  {
   "cell_type": "code",
   "execution_count": 5,
   "metadata": {},
   "outputs": [],
   "source": [
    "DF.set_index([\"TICKER\", \"date\"], inplace =True)"
   ]
  },
  {
   "cell_type": "code",
   "execution_count": 6,
   "metadata": {},
   "outputs": [],
   "source": [
    "accounting[\"costat\"] = pd.get_dummies(accounting[\"costat\"])"
   ]
  },
  {
   "cell_type": "code",
   "execution_count": 7,
   "metadata": {},
   "outputs": [],
   "source": [
    "def impute_null(df):\n",
    "    \"\"\"\n",
    "    impute the NaN Values in the middle and at the end\n",
    "    Middle: average of last available value and next available\n",
    "    End: last available value\n",
    "    \"\"\"\n",
    "    df = df.where(df.notnull(), other=(df.fillna(method='ffill')+df.fillna(method='bfill'))/2)\n",
    "    if df[len(df)//2 :].isna().any().any() == True:\n",
    "        df[len(df)//2 :] = df[len(df)//2 :].fillna(method = \"ffill\")\n",
    "    return df"
   ]
  },
  {
   "cell_type": "code",
   "execution_count": 8,
   "metadata": {},
   "outputs": [],
   "source": [
    "acc_trunc = accounting.loc[:, \"actq\":]"
   ]
  },
  {
   "cell_type": "code",
   "execution_count": 9,
   "metadata": {},
   "outputs": [],
   "source": [
    "for key in acc_trunc.reset_index()[\"TICKER\"].unique():\n",
    "    globals()[f'{key}'] = acc_trunc.loc[key]"
   ]
  },
  {
   "cell_type": "code",
   "execution_count": 10,
   "metadata": {},
   "outputs": [],
   "source": [
    "for key in acc_trunc.reset_index()[\"TICKER\"].unique():\n",
    "    globals()[f'{key}'] = impute_null(globals()[f'{key}'])"
   ]
  },
  {
   "cell_type": "code",
   "execution_count": 11,
   "metadata": {},
   "outputs": [],
   "source": [
    "for key in acc_trunc.reset_index()[\"TICKER\"].unique():\n",
    "    globals()[f'{key}'] = globals()[f'{key}'].replace(np.nan, 0)"
   ]
  },
  {
   "cell_type": "code",
   "execution_count": 12,
   "metadata": {},
   "outputs": [],
   "source": [
    "for key in acc_trunc.reset_index()[\"TICKER\"].unique():\n",
    "    globals()[f'{key}'][\"ticker\"] = f\"{key}\""
   ]
  },
  {
   "cell_type": "code",
   "execution_count": null,
   "metadata": {},
   "outputs": [],
   "source": []
  },
  {
   "cell_type": "code",
   "execution_count": 13,
   "metadata": {},
   "outputs": [],
   "source": [
    "new_acc = pd.DataFrame()\n",
    "for key in acc_trunc.reset_index()[\"TICKER\"].unique():\n",
    "    new_acc = new_acc.append(globals()[f'{key}'])"
   ]
  },
  {
   "cell_type": "code",
   "execution_count": 14,
   "metadata": {},
   "outputs": [],
   "source": [
    "new_acc = new_acc.reset_index().set_index([\"ticker\", \"date\"])"
   ]
  },
  {
   "cell_type": "code",
   "execution_count": 15,
   "metadata": {},
   "outputs": [
    {
     "name": "stderr",
     "output_type": "stream",
     "text": [
      "C:\\Users\\HP\\Anaconda3\\lib\\site-packages\\IPython\\core\\interactiveshell.py:2867: PerformanceWarning: indexing past lexsort depth may impact performance.\n",
      "  raw_cell, store_history, silent, shell_futures)\n"
     ]
    }
   ],
   "source": [
    "accounting.loc[:, \"actq\":] = new_acc"
   ]
  },
  {
   "cell_type": "code",
   "execution_count": 16,
   "metadata": {},
   "outputs": [],
   "source": [
    "for key in accounting.reset_index()[\"TICKER\"].unique():\n",
    "    globals()[f'{key}'] = accounting.loc[key]"
   ]
  },
  {
   "cell_type": "code",
   "execution_count": 17,
   "metadata": {},
   "outputs": [
    {
     "name": "stderr",
     "output_type": "stream",
     "text": [
      "C:\\Users\\HP\\Anaconda3\\lib\\site-packages\\ipykernel_launcher.py:2: SettingWithCopyWarning: \n",
      "A value is trying to be set on a copy of a slice from a DataFrame.\n",
      "Try using .loc[row_indexer,col_indexer] = value instead\n",
      "\n",
      "See the caveats in the documentation: https://pandas.pydata.org/pandas-docs/stable/user_guide/indexing.html#returning-a-view-versus-a-copy\n",
      "  \n"
     ]
    }
   ],
   "source": [
    "for key in accounting.reset_index()[\"TICKER\"].unique():\n",
    "    globals()[f'{key}'][\"datafqtr\"] = globals()[f'{key}'][\"datafqtr\"].shift(1)  "
   ]
  },
  {
   "cell_type": "code",
   "execution_count": 18,
   "metadata": {},
   "outputs": [
    {
     "name": "stderr",
     "output_type": "stream",
     "text": [
      "C:\\Users\\HP\\Anaconda3\\lib\\site-packages\\ipykernel_launcher.py:2: SettingWithCopyWarning: \n",
      "A value is trying to be set on a copy of a slice from a DataFrame.\n",
      "Try using .loc[row_indexer,col_indexer] = value instead\n",
      "\n",
      "See the caveats in the documentation: https://pandas.pydata.org/pandas-docs/stable/user_guide/indexing.html#returning-a-view-versus-a-copy\n",
      "  \n"
     ]
    }
   ],
   "source": [
    "for key in acc_trunc.reset_index()[\"TICKER\"].unique():\n",
    "    globals()[f'{key}'][\"ticker\"] = f\"{key}\""
   ]
  },
  {
   "cell_type": "code",
   "execution_count": 19,
   "metadata": {},
   "outputs": [],
   "source": [
    "acc = pd.DataFrame()\n",
    "for key in accounting.reset_index()[\"TICKER\"].unique():\n",
    "    acc = acc.append(globals()[f'{key}'])"
   ]
  },
  {
   "cell_type": "code",
   "execution_count": 20,
   "metadata": {},
   "outputs": [],
   "source": [
    "acc = acc.reset_index().set_index([\"ticker\", \"date\"])"
   ]
  },
  {
   "cell_type": "code",
   "execution_count": null,
   "metadata": {},
   "outputs": [],
   "source": []
  },
  {
   "cell_type": "code",
   "execution_count": null,
   "metadata": {},
   "outputs": [],
   "source": [
    "accounting.to_csv(\"acc_data_complete.csv\")"
   ]
  },
  {
   "cell_type": "code",
   "execution_count": 4,
   "metadata": {},
   "outputs": [],
   "source": [
    "accounting = pd.read_csv(\"acc_data_complete.csv\")"
   ]
  },
  {
   "cell_type": "code",
   "execution_count": 6,
   "metadata": {},
   "outputs": [],
   "source": [
    "tics = DF[\"TICKER\"].unique()"
   ]
  },
  {
   "cell_type": "code",
   "execution_count": 9,
   "metadata": {},
   "outputs": [],
   "source": [
    "tics = pd.Series(tics)"
   ]
  },
  {
   "cell_type": "code",
   "execution_count": 10,
   "metadata": {},
   "outputs": [],
   "source": [
    "tics.to_csv(\"tics_)last.csv\")"
   ]
  },
  {
   "cell_type": "code",
   "execution_count": 5,
   "metadata": {},
   "outputs": [
    {
     "name": "stderr",
     "output_type": "stream",
     "text": [
      "C:\\Users\\HP\\Anaconda3\\envs\\tensorflow\\lib\\site-packages\\IPython\\core\\interactiveshell.py:3072: DtypeWarning: Columns (2) have mixed types.Specify dtype option on import or set low_memory=False.\n",
      "  interactivity=interactivity, compiler=compiler, result=result)\n"
     ]
    }
   ],
   "source": [
    "sic = pd.read_csv(\"dd7c4dc33d1e2eb6.csv\")"
   ]
  },
  {
   "cell_type": "code",
   "execution_count": 6,
   "metadata": {},
   "outputs": [],
   "source": [
    "sic = sic.drop_duplicates(subset = [\"SICCD\", \"PERMNO\", \"TICKER\"])"
   ]
  },
  {
   "cell_type": "code",
   "execution_count": 7,
   "metadata": {},
   "outputs": [],
   "source": [
    "sic.drop(\"date\", axis = 1, inplace = True)"
   ]
  },
  {
   "cell_type": "code",
   "execution_count": 8,
   "metadata": {},
   "outputs": [],
   "source": [
    "sic.reset_index(drop = True, inplace = True)"
   ]
  },
  {
   "cell_type": "code",
   "execution_count": 9,
   "metadata": {},
   "outputs": [],
   "source": [
    "sic = sic.drop_duplicates(subset = [\"SICCD\", \"PERMNO\"])"
   ]
  },
  {
   "cell_type": "code",
   "execution_count": 10,
   "metadata": {},
   "outputs": [],
   "source": [
    "sic.drop(\"HSICIG\", axis = 1, inplace = True)"
   ]
  },
  {
   "cell_type": "code",
   "execution_count": 11,
   "metadata": {},
   "outputs": [],
   "source": [
    "sic.drop_duplicates(\"TICKER\", keep =\"last\", inplace = True)"
   ]
  },
  {
   "cell_type": "code",
   "execution_count": 12,
   "metadata": {},
   "outputs": [],
   "source": [
    "sic.drop(\"PERMNO\", axis = 1, inplace = True)"
   ]
  },
  {
   "cell_type": "code",
   "execution_count": 13,
   "metadata": {},
   "outputs": [],
   "source": [
    "DF_1 = pd.merge(DF, sic, on = \"TICKER\", how = \"left\")"
   ]
  },
  {
   "cell_type": "code",
   "execution_count": 14,
   "metadata": {},
   "outputs": [],
   "source": [
    "DF_1[\"date\"] = pd.to_datetime(DF_1[\"date\"])"
   ]
  },
  {
   "cell_type": "code",
   "execution_count": 15,
   "metadata": {},
   "outputs": [],
   "source": [
    "DF_1[\"quarter\"] = DF_1[\"date\"].dt.quarter"
   ]
  },
  {
   "cell_type": "code",
   "execution_count": 16,
   "metadata": {},
   "outputs": [],
   "source": [
    "DF_1[\"quarter\"] = \"Q\" + DF_1[\"quarter\"].astype(str) "
   ]
  },
  {
   "cell_type": "code",
   "execution_count": 17,
   "metadata": {},
   "outputs": [],
   "source": [
    "DF_1[\"quarter\"] =DF_1[\"date\"].dt.year.astype(str)+ DF_1[\"quarter\"] "
   ]
  },
  {
   "cell_type": "code",
   "execution_count": 18,
   "metadata": {},
   "outputs": [
    {
     "data": {
      "text/plain": [
       "0          2009Q3\n",
       "1          2009Q3\n",
       "2          2009Q3\n",
       "3          2009Q3\n",
       "4          2009Q3\n",
       "            ...  \n",
       "7022706    2019Q4\n",
       "7022707    2019Q4\n",
       "7022708    2019Q4\n",
       "7022709    2019Q4\n",
       "7022710    2019Q4\n",
       "Name: quarter, Length: 7022711, dtype: object"
      ]
     },
     "execution_count": 18,
     "metadata": {},
     "output_type": "execute_result"
    }
   ],
   "source": [
    "DF_1[\"quarter\"]"
   ]
  },
  {
   "cell_type": "code",
   "execution_count": 19,
   "metadata": {},
   "outputs": [],
   "source": [
    "accounting = accounting[~accounting[\"datafqtr\"].isna()]"
   ]
  },
  {
   "cell_type": "code",
   "execution_count": 20,
   "metadata": {},
   "outputs": [],
   "source": [
    "DF_1[\"SICCD\"].fillna(0, inplace = True)"
   ]
  },
  {
   "cell_type": "code",
   "execution_count": null,
   "metadata": {},
   "outputs": [],
   "source": []
  },
  {
   "cell_type": "code",
   "execution_count": 21,
   "metadata": {},
   "outputs": [],
   "source": [
    "DF_1[\"ticker\"] = DF_1[\"TICKER\"]"
   ]
  },
  {
   "cell_type": "code",
   "execution_count": 22,
   "metadata": {},
   "outputs": [],
   "source": [
    "DF_1[\"datafqtr\"] = DF_1[\"quarter\"]"
   ]
  },
  {
   "cell_type": "code",
   "execution_count": null,
   "metadata": {},
   "outputs": [],
   "source": []
  },
  {
   "cell_type": "code",
   "execution_count": 24,
   "metadata": {},
   "outputs": [],
   "source": [
    "DF_1.drop([\"TICKER\", \"quarter\"], axis = 1, inplace = True)"
   ]
  },
  {
   "cell_type": "code",
   "execution_count": 25,
   "metadata": {},
   "outputs": [],
   "source": [
    "accounting.drop([\"date\", \"fyearq\", \"fqtr\", \"curcdq\"], axis = 1, inplace = True)"
   ]
  },
  {
   "cell_type": "code",
   "execution_count": 26,
   "metadata": {},
   "outputs": [],
   "source": [
    "DF_2 = pd.merge(DF_1, accounting, how = \"left\", on = [\"ticker\", \"datafqtr\"])"
   ]
  },
  {
   "cell_type": "code",
   "execution_count": 32,
   "metadata": {},
   "outputs": [],
   "source": [
    "DF_2.dropna(inplace = True)"
   ]
  },
  {
   "cell_type": "code",
   "execution_count": 2,
   "metadata": {},
   "outputs": [
    {
     "ename": "NameError",
     "evalue": "name 'DF_2' is not defined",
     "output_type": "error",
     "traceback": [
      "\u001b[1;31m---------------------------------------------------------------------------\u001b[0m",
      "\u001b[1;31mNameError\u001b[0m                                 Traceback (most recent call last)",
      "\u001b[1;32m<ipython-input-2-c18ed94b290b>\u001b[0m in \u001b[0;36m<module>\u001b[1;34m\u001b[0m\n\u001b[1;32m----> 1\u001b[1;33m \u001b[0mDF_2\u001b[0m\u001b[1;33m.\u001b[0m\u001b[0mto_csv\u001b[0m\u001b[1;33m(\u001b[0m\u001b[1;34m\"final_data.csv\"\u001b[0m\u001b[1;33m,\u001b[0m \u001b[0mindex\u001b[0m \u001b[1;33m=\u001b[0m \u001b[1;32mFalse\u001b[0m\u001b[1;33m)\u001b[0m\u001b[1;33m\u001b[0m\u001b[1;33m\u001b[0m\u001b[0m\n\u001b[0m",
      "\u001b[1;31mNameError\u001b[0m: name 'DF_2' is not defined"
     ]
    }
   ],
   "source": [
    "DF_2.to_csv(\"final_data.csv\", index = False)"
   ]
  },
  {
   "cell_type": "code",
   "execution_count": 3,
   "metadata": {},
   "outputs": [],
   "source": [
    "DF = pd.read_csv(\"final_data.csv\")"
   ]
  },
  {
   "cell_type": "code",
   "execution_count": 6,
   "metadata": {},
   "outputs": [],
   "source": [
    "DF = DF.set_index([\"ticker\", \"date\"])"
   ]
  },
  {
   "cell_type": "code",
   "execution_count": 17,
   "metadata": {},
   "outputs": [],
   "source": [
    "DF[\"datafqtr\"] = DF[\"datafqtr\"].astype(\"category\") "
   ]
  },
  {
   "cell_type": "code",
   "execution_count": null,
   "metadata": {},
   "outputs": [],
   "source": [
    "DF[\"SICCD\"] = DF[\"SICCD\"].astype(\"category\") "
   ]
  },
  {
   "cell_type": "code",
   "execution_count": null,
   "metadata": {},
   "outputs": [],
   "source": [
    "for key in DF.reset_index()[\"ticker\"].unique():\n",
    "    globals()[f'{key}'] = DF.loc[key]"
   ]
  },
  {
   "cell_type": "code",
   "execution_count": null,
   "metadata": {},
   "outputs": [],
   "source": [
    "for tic in DF.reset_index()[\"ticker\"].unique():\n",
    "    globals()[f'{tic}'][\"next\"] = globals()[f'{tic}'][\"PRC\"].shift(-1) "
   ]
  },
  {
   "cell_type": "code",
   "execution_count": null,
   "metadata": {},
   "outputs": [],
   "source": [
    "for key in DF.reset_index()[\"ticker\"].unique():\n",
    "    globals()[f'{key}'][\"ticker\"] = f\"{key}\""
   ]
  },
  {
   "cell_type": "code",
   "execution_count": null,
   "metadata": {},
   "outputs": [],
   "source": [
    "DF_1 = pd.DataFrame()\n",
    "for tic in DF.reset_index()[\"ticker\"].unique():\n",
    "    DF_1 = DF_1.append(globals()[f'{tic}'])"
   ]
  },
  {
   "cell_type": "code",
   "execution_count": 29,
   "metadata": {},
   "outputs": [],
   "source": [
    "DF_1.to_csv(\"final_data.csv\")"
   ]
  },
  {
   "cell_type": "code",
   "execution_count": 2,
   "metadata": {},
   "outputs": [],
   "source": [
    "DF = pd.read_csv(\"final_data.csv\")"
   ]
  },
  {
   "cell_type": "code",
   "execution_count": 10,
   "metadata": {},
   "outputs": [],
   "source": [
    "DF[\"tic\"] = DF[\"ticker\"]"
   ]
  },
  {
   "cell_type": "code",
   "execution_count": 11,
   "metadata": {},
   "outputs": [],
   "source": [
    "DF = DF.set_index([\"ticker\", \"date\"])"
   ]
  },
  {
   "cell_type": "code",
   "execution_count": 5,
   "metadata": {},
   "outputs": [],
   "source": [
    "DF = DF.drop([\"interest_c_ratio\", \"inventory_turnover_ratio\" ], axis = 1)"
   ]
  },
  {
   "cell_type": "code",
   "execution_count": 16,
   "metadata": {},
   "outputs": [],
   "source": [
    "DF[\"SICCD\"] = DF[\"SICCD\"].astype(\"category\")\n",
    "DF[\"gvkey\"] = DF[\"gvkey\"].astype(\"category\") \n",
    "DF[\"datafqtr\"] = DF[\"datafqtr\"].astype(\"category\")\n",
    "DF[\"tic\"] = DF[\"tic\"].astype(\"category\")\n",
    "DF[\"PERMNO\"] = DF[\"PERMNO\"].astype(\"category\")"
   ]
  },
  {
   "cell_type": "code",
   "execution_count": 17,
   "metadata": {},
   "outputs": [],
   "source": [
    "DF[\"SICCD\"] = DF[\"SICCD\"].cat.codes\n",
    "DF[\"gvkey\"] = DF[\"gvkey\"].cat.codes \n",
    "DF[\"datafqtr\"] = DF[\"datafqtr\"].cat.codes\n",
    "DF[\"PERMNO\"] = DF[\"PERMNO\"].cat.codes"
   ]
  },
  {
   "cell_type": "code",
   "execution_count": 18,
   "metadata": {},
   "outputs": [],
   "source": [
    "DF.drop(\"COMNAM\", axis = 1, inplace = True)"
   ]
  },
  {
   "cell_type": "code",
   "execution_count": null,
   "metadata": {},
   "outputs": [],
   "source": [
    "DF.to_csv(\"final_data.csv\")"
   ]
  }
 ],
 "metadata": {
  "kernelspec": {
   "display_name": "Python 3",
   "language": "python",
   "name": "python3"
  },
  "language_info": {
   "codemirror_mode": {
    "name": "ipython",
    "version": 3
   },
   "file_extension": ".py",
   "mimetype": "text/x-python",
   "name": "python",
   "nbconvert_exporter": "python",
   "pygments_lexer": "ipython3",
   "version": "3.7.6"
  }
 },
 "nbformat": 4,
 "nbformat_minor": 4
}
